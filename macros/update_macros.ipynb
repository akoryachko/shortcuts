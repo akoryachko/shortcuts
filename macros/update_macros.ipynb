{
 "cells": [
  {
   "cell_type": "code",
   "execution_count": 1,
   "metadata": {},
   "outputs": [],
   "source": [
    "import pandas as pd\n",
    "import numpy as np\n",
    "import matplotlib.pyplot as plt\n",
    "import matplotlib as mpl\n",
    "%matplotlib inline\n",
    "\n",
    "import minion.services.config as cfg\n",
    "\n",
    "from platy import Platform, F, T\n",
    "from platy.utils import prc, prn\n",
    "\n",
    "from pyspark.sql.window import Window"
   ]
  },
  {
   "cell_type": "code",
   "execution_count": 7,
   "metadata": {},
   "outputs": [
    {
     "name": "stdout",
     "output_type": "stream",
     "text": [
      "Stored 'imports' (Macro)\n"
     ]
    }
   ],
   "source": [
    "new_lines = []\n",
    "\n",
    "%macro -q -r imports 1\n",
    "%store imports\n",
    "new_lines.append('    \\'%store -r imports\\',\\n')"
   ]
  },
  {
   "cell_type": "code",
   "execution_count": 8,
   "metadata": {},
   "outputs": [],
   "source": [
    "ipython = !ipython locate\n",
    "\n",
    "fn = f'{ipython[0]}/profile_default/ipython_config.py'\n",
    "\n",
    "with open(fn) as f:\n",
    "    lines = f.readlines()\n",
    "\n",
    "insert_position = lines.index('c.InteractiveShellApp.exec_lines = [\\n') + 1    \n",
    "\n",
    "for new_line in new_lines:\n",
    "    if not new_line in lines:\n",
    "        lines.insert(insert_position, new_line)\n",
    "\n",
    "\n",
    "with open(fn, mode='w') as f:\n",
    "    f.writelines(lines)"
   ]
  },
  {
   "cell_type": "code",
   "execution_count": null,
   "metadata": {},
   "outputs": [],
   "source": []
  }
 ],
 "metadata": {
  "kernelspec": {
   "display_name": "Python 3 [ analysis-preview-py3 ]",
   "language": "python",
   "name": "analysis-preview-py3-latest"
  },
  "language_info": {
   "codemirror_mode": {
    "name": "ipython",
    "version": 3
   },
   "file_extension": ".py",
   "mimetype": "text/x-python",
   "name": "python",
   "nbconvert_exporter": "python",
   "pygments_lexer": "ipython3",
   "version": "3.6.7"
  }
 },
 "nbformat": 4,
 "nbformat_minor": 2
}
