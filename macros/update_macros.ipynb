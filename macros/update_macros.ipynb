{
 "cells": [
  {
   "cell_type": "code",
   "execution_count": null,
   "metadata": {},
   "outputs": [],
   "source": [
    "import pandas as pd\n",
    "import numpy as np\n",
    "import matplotlib.pyplot as plt\n",
    "import matplotlib as mpl\n",
    "%matplotlib inline\n",
    "\n",
    "import minion.services.config as cfg\n",
    "\n",
    "from platy import Platform, utils, F, T\n",
    "from platy.utils import prc, prn\n",
    "\n",
    "from pyspark.sql.window import Window"
   ]
  },
  {
   "cell_type": "code",
   "execution_count": null,
   "metadata": {},
   "outputs": [],
   "source": [
    "import matplotlib as mpl\n",
    "with plt.style.context('ggplot'):\n",
    "    pass\n",
    "#     fig, ax = plt.subplots(figsize=(7, 5))\n",
    "    \n",
    "#     y.plot.scatter(x='bin', y='avgBids', ax=ax, logy=True)\n",
    "    \n",
    "#     ax.axhline(20, c='red', ls='--', label='horizontal_line')\n",
    "        \n",
    "#     ax.xaxis.set_major_formatter(mpl.ticker.FormatStrFormatter(\"$%.2f\"))\n",
    "\n",
    "#     current_axis_values = plt.gca().get_yticks()\n",
    "#     plt.gca().set_yticklabels(['{:,.0f}'.format(x) for x in current_axis_values])\n",
    "\n",
    "#     ax.grid(True)\n",
    "#     ax.set_axisbelow(True)\n",
    "\n",
    "#     ax.set_title('title')\n",
    "#     ax.set_xlabel('xlabel')\n",
    "#     ax.set_ylabel('ylabel')\n",
    "#     ax.legend()\n",
    "    \n",
    "#     fig.savefig('pics/fn.png', bbox_inches = \"tight\")"
   ]
  },
  {
   "cell_type": "code",
   "execution_count": null,
   "metadata": {},
   "outputs": [],
   "source": [
    "new_lines = []"
   ]
  },
  {
   "cell_type": "code",
   "execution_count": null,
   "metadata": {},
   "outputs": [],
   "source": [
    "%macro -q -r imports 1\n",
    "%store imports\n",
    "new_lines.append('    \\'%store -r imports\\',\\n')"
   ]
  },
  {
   "cell_type": "code",
   "execution_count": null,
   "metadata": {},
   "outputs": [],
   "source": [
    "%macro -q -r plot 2\n",
    "%store plot\n",
    "new_lines.append('    \\'%store -r plot\\',\\n')"
   ]
  },
  {
   "cell_type": "code",
   "execution_count": null,
   "metadata": {},
   "outputs": [],
   "source": [
    "import os.path\n",
    "\n",
    "ipython = !ipython locate\n",
    "fn = f'{ipython[0]}/profile_default/ipython_config.py'\n",
    "exec_line = 'c.InteractiveShellApp.exec_lines = [\\n'\n",
    "exec_line_default = '#c.InteractiveShellApp.exec_lines = []\\n'\n",
    "\n",
    "if not os.path.isfile(fn):\n",
    "    !ipython profile create\n",
    "\n",
    "with open(fn) as f:\n",
    "    lines = f.readlines()\n",
    "\n",
    "if exec_line_default in lines:\n",
    "    setting_position = lines.index(exec_line_default)\n",
    "    lines[setting_position] = exec_line\n",
    "    lines.insert(setting_position+1, ']\\n')\n",
    "\n",
    "insert_position = lines.index(exec_line) if exec_line in lines else 0\n",
    "\n",
    "for new_line in new_lines:\n",
    "    if not new_line in lines:\n",
    "        insert_position += 1\n",
    "        lines.insert(insert_position, new_line)\n",
    "\n",
    "with open(fn, mode='w') as f:\n",
    "    f.writelines(lines)"
   ]
  },
  {
   "cell_type": "code",
   "execution_count": null,
   "metadata": {},
   "outputs": [],
   "source": [
    "ipython = !ipython locate\n",
    "print(f'!rm -r {ipython[0]}/profile_default/')"
   ]
  },
  {
   "cell_type": "code",
   "execution_count": null,
   "metadata": {},
   "outputs": [],
   "source": []
  }
 ],
 "metadata": {
  "kernelspec": {
   "display_name": "Python 3 [ analysis-preview-py3 ]",
   "language": "python",
   "name": "analysis-preview-py3-latest"
  },
  "language_info": {
   "codemirror_mode": {
    "name": "ipython",
    "version": 3
   },
   "file_extension": ".py",
   "mimetype": "text/x-python",
   "name": "python",
   "nbconvert_exporter": "python",
   "pygments_lexer": "ipython3",
   "version": "3.6.7"
  }
 },
 "nbformat": 4,
 "nbformat_minor": 2
}
