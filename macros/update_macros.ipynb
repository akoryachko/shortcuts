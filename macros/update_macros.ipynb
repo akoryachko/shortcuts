{
 "cells": [
  {
   "cell_type": "code",
   "execution_count": null,
   "metadata": {},
   "outputs": [],
   "source": [
    "import pandas as pd\n",
    "import numpy as np\n",
    "import matplotlib.pyplot as plt\n",
    "import matplotlib as mpl\n",
    "%matplotlib inline\n",
    "\n",
    "import minion.services.config as cfg\n",
    "\n",
    "from platy import Platform, F, T\n",
    "from platy.utils import prc, prn\n",
    "\n",
    "from pyspark.sql.window import Window"
   ]
  },
  {
   "cell_type": "code",
   "execution_count": null,
   "metadata": {},
   "outputs": [],
   "source": [
    "line_item_id = 278794\n",
    "priority_map_id = 775378\n",
    "experimental_map_id = 783559\n",
    "contextual_priority_map_id = 798872"
   ]
  },
  {
   "cell_type": "code",
   "execution_count": null,
   "metadata": {},
   "outputs": [],
   "source": [
    "new_lines = []"
   ]
  },
  {
   "cell_type": "code",
   "execution_count": null,
   "metadata": {},
   "outputs": [],
   "source": [
    "%macro -q -r imports 1\n",
    "%store imports\n",
    "new_lines.append('    \\'%store -r imports\\',\\n')"
   ]
  },
  {
   "cell_type": "code",
   "execution_count": null,
   "metadata": {},
   "outputs": [],
   "source": [
    "%macro -q -r coke_ids 2\n",
    "%store coke_ids\n",
    "new_lines.append('    \\'%store -r coke_ids\\',\\n')"
   ]
  },
  {
   "cell_type": "code",
   "execution_count": null,
   "metadata": {},
   "outputs": [],
   "source": [
    "import os.path\n",
    "\n",
    "ipython = !ipython locate\n",
    "fn = f'{ipython[0]}/profile_default/ipython_config.py'\n",
    "exec_line = 'c.InteractiveShellApp.exec_lines = [\\n'\n",
    "exec_line_default = '#c.InteractiveShellApp.exec_lines = []\\n'\n",
    "\n",
    "if not os.path.isfile(fn):\n",
    "    !ipython profile create\n",
    "\n",
    "with open(fn) as f:\n",
    "    lines = f.readlines()\n",
    "\n",
    "if exec_line_default in lines:\n",
    "    setting_position = lines.index(exec_line_default)\n",
    "    lines[setting_position] = exec_line\n",
    "    lines.insert(setting_position+1, ']\\n')\n",
    "\n",
    "insert_position = lines.index(exec_line) if exec_line in lines else 0\n",
    "\n",
    "for new_line in new_lines:\n",
    "    if not new_line in lines:\n",
    "        insert_position += 1\n",
    "        lines.insert(insert_position, new_line)\n",
    "\n",
    "with open(fn, mode='w') as f:\n",
    "    f.writelines(lines)"
   ]
  },
  {
   "cell_type": "code",
   "execution_count": null,
   "metadata": {},
   "outputs": [],
   "source": [
    "ipython = !ipython locate\n",
    "print(f'!rm -r {ipython[0]}/profile_default/')"
   ]
  }
 ],
 "metadata": {
  "kernelspec": {
   "display_name": "Python 3 [ analysis-preview-py3 ]",
   "language": "python",
   "name": "analysis-preview-py3-latest"
  },
  "language_info": {
   "codemirror_mode": {
    "name": "ipython",
    "version": 3
   },
   "file_extension": ".py",
   "mimetype": "text/x-python",
   "name": "python",
   "nbconvert_exporter": "python",
   "pygments_lexer": "ipython3",
   "version": "3.6.7"
  }
 },
 "nbformat": 4,
 "nbformat_minor": 2
}
